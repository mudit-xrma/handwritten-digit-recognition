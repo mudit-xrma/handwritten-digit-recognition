{
 "cells": [
  {
   "cell_type": "markdown",
   "id": "a54a016e",
   "metadata": {},
   "source": [
    "### IMPORT MODULES"
   ]
  },
  {
   "cell_type": "code",
   "execution_count": 1,
   "id": "1b52a1d4",
   "metadata": {},
   "outputs": [],
   "source": [
    "import tensorflow as tf\n",
    "from tensorflow import keras\n",
    "from tensorflow.keras import Sequential\n",
    "from tensorflow.keras.layers import Dense, Flatten\n",
    "from tensorflow.keras.utils import to_categorical"
   ]
  },
  {
   "cell_type": "markdown",
   "id": "73a0b4bc",
   "metadata": {},
   "source": [
    "### TRAIN TEST SPLIT"
   ]
  },
  {
   "cell_type": "code",
   "execution_count": 2,
   "id": "41668126",
   "metadata": {},
   "outputs": [],
   "source": [
    "(X_train,y_train),(X_test,y_test) = keras.datasets.mnist.load_data()"
   ]
  },
  {
   "cell_type": "code",
   "execution_count": 3,
   "id": "1e82d36a",
   "metadata": {},
   "outputs": [
    {
     "data": {
      "text/plain": [
       "<matplotlib.image.AxesImage at 0x175f9e92790>"
      ]
     },
     "execution_count": 3,
     "metadata": {},
     "output_type": "execute_result"
    },
    {
     "data": {
      "image/png": "[encoded data removed]",
      "text/plain": [
       "<Figure size 640x480 with 1 Axes>"
      ]
     },
     "metadata": {},
     "output_type": "display_data"
    }
   ],
   "source": [
    "import matplotlib.pyplot as plt\n",
    "plt.imshow(X_train[0],cmap=plt.get_cmap('gray'))"
   ]
  },
  {
   "cell_type": "code",
   "execution_count": 4,
   "id": "9d59a9b0",
   "metadata": {},
   "outputs": [
    {
     "data": {
      "text/plain": [
       "(60000, 28, 28)"
      ]
     },
     "execution_count": 4,
     "metadata": {},
     "output_type": "execute_result"
    }
   ],
   "source": [
    "X_train.shape"
   ]
  },
  {
   "cell_type": "code",
   "execution_count": 5,
   "id": "b66fbbd2",
   "metadata": {},
   "outputs": [],
   "source": [
    "X_train=X_train.reshape(X_train.shape[0],28,28,1).astype('float32')\n",
    "X_test=X_test.reshape(X_test.shape[0],28,28,1).astype('float32')\n",
    "\n",
    "y_train=to_categorical(y_train)\n",
    "y_test=to_categorical(y_test)"
   ]
  },
  {
   "cell_type": "code",
   "execution_count": 6,
   "id": "c05eb735",
   "metadata": {},
   "outputs": [],
   "source": [
    "X_train=X_train/255\n",
    "X_test=X_test/255"
   ]
  },
  {
   "cell_type": "code",
   "execution_count": 22,
   "id": "c122140f",
   "metadata": {},
   "outputs": [
    {
     "name": "stdout",
     "output_type": "stream",
     "text": [
      "Epoch 1/25\n",
      "1500/1500 [==============================] - 102s 67ms/step - loss: 0.1652 - accuracy: 0.9493 - val_loss: 0.0553 - val_accuracy: 0.9852\n",
      "Epoch 2/25\n",
      "1500/1500 [==============================] - 104s 69ms/step - loss: 0.0689 - accuracy: 0.9790 - val_loss: 0.0541 - val_accuracy: 0.9844\n",
      "Epoch 3/25\n",
      "1500/1500 [==============================] - 103s 69ms/step - loss: 0.0478 - accuracy: 0.9842 - val_loss: 0.0372 - val_accuracy: 0.9898\n",
      "Epoch 4/25\n",
      "1500/1500 [==============================] - 110s 74ms/step - loss: 0.0384 - accuracy: 0.9880 - val_loss: 0.0386 - val_accuracy: 0.9902\n",
      "Epoch 5/25\n",
      "1500/1500 [==============================] - 122s 82ms/step - loss: 0.0338 - accuracy: 0.9890 - val_loss: 0.0374 - val_accuracy: 0.9894\n",
      "Epoch 6/25\n",
      "1500/1500 [==============================] - 157s 105ms/step - loss: 0.0278 - accuracy: 0.9913 - val_loss: 0.0389 - val_accuracy: 0.9902\n",
      "Epoch 7/25\n",
      "1500/1500 [==============================] - 156s 104ms/step - loss: 0.0238 - accuracy: 0.9924 - val_loss: 0.0381 - val_accuracy: 0.9902\n",
      "Epoch 8/25\n",
      "1500/1500 [==============================] - 159s 106ms/step - loss: 0.0216 - accuracy: 0.9929 - val_loss: 0.0390 - val_accuracy: 0.9898\n",
      "Epoch 9/25\n",
      "1500/1500 [==============================] - 160s 107ms/step - loss: 0.0190 - accuracy: 0.9934 - val_loss: 0.0358 - val_accuracy: 0.9912\n",
      "Epoch 10/25\n",
      "1500/1500 [==============================] - 162s 108ms/step - loss: 0.0165 - accuracy: 0.9947 - val_loss: 0.0418 - val_accuracy: 0.9909\n",
      "Epoch 11/25\n",
      "1500/1500 [==============================] - 161s 107ms/step - loss: 0.0146 - accuracy: 0.9951 - val_loss: 0.0559 - val_accuracy: 0.9888\n",
      "Epoch 12/25\n",
      "1500/1500 [==============================] - 159s 106ms/step - loss: 0.0152 - accuracy: 0.9951 - val_loss: 0.0368 - val_accuracy: 0.9925\n",
      "Epoch 13/25\n",
      "1500/1500 [==============================] - 157s 105ms/step - loss: 0.0141 - accuracy: 0.9954 - val_loss: 0.0412 - val_accuracy: 0.9912\n",
      "Epoch 14/25\n",
      "1500/1500 [==============================] - 160s 107ms/step - loss: 0.0122 - accuracy: 0.9960 - val_loss: 0.0387 - val_accuracy: 0.9909\n",
      "Epoch 15/25\n",
      "1500/1500 [==============================] - 156s 104ms/step - loss: 0.0133 - accuracy: 0.9954 - val_loss: 0.0393 - val_accuracy: 0.9918\n",
      "Epoch 16/25\n",
      "1500/1500 [==============================] - 161s 107ms/step - loss: 0.0108 - accuracy: 0.9964 - val_loss: 0.0467 - val_accuracy: 0.9903\n",
      "Epoch 17/25\n",
      "1500/1500 [==============================] - 160s 107ms/step - loss: 0.0112 - accuracy: 0.9964 - val_loss: 0.0452 - val_accuracy: 0.9909\n",
      "Epoch 18/25\n",
      "1500/1500 [==============================] - 158s 105ms/step - loss: 0.0113 - accuracy: 0.9965 - val_loss: 0.0399 - val_accuracy: 0.9911\n",
      "Epoch 19/25\n",
      "1500/1500 [==============================] - 162s 108ms/step - loss: 0.0116 - accuracy: 0.9963 - val_loss: 0.0456 - val_accuracy: 0.9917\n",
      "Epoch 20/25\n",
      "1500/1500 [==============================] - 161s 107ms/step - loss: 0.0101 - accuracy: 0.9967 - val_loss: 0.0544 - val_accuracy: 0.9902\n",
      "Epoch 21/25\n",
      "1500/1500 [==============================] - 164s 109ms/step - loss: 0.0095 - accuracy: 0.9969 - val_loss: 0.0519 - val_accuracy: 0.9911\n",
      "Epoch 22/25\n",
      "1500/1500 [==============================] - 159s 106ms/step - loss: 0.0102 - accuracy: 0.9968 - val_loss: 0.0752 - val_accuracy: 0.9896\n",
      "Epoch 23/25\n",
      "1500/1500 [==============================] - 166s 111ms/step - loss: 0.0084 - accuracy: 0.9973 - val_loss: 0.0514 - val_accuracy: 0.9928\n",
      "Epoch 24/25\n",
      "1500/1500 [==============================] - 166s 111ms/step - loss: 0.0074 - accuracy: 0.9976 - val_loss: 0.0527 - val_accuracy: 0.9910\n",
      "Epoch 25/25\n",
      "1500/1500 [==============================] - 160s 106ms/step - loss: 0.0081 - accuracy: 0.9974 - val_loss: 0.0637 - val_accuracy: 0.9898\n"
     ]
    }
   ],
   "source": [
    "\n",
    "#model = Sequential()\n",
    "#model.add(Flatten())\n",
    "#model.add(Dense(128, activation='relu'))  #hidden layer\n",
    "#model.add(Dense(10, activation='softmax'))  #output layer///\n",
    "\n",
    "\n",
    "from keras.models import Sequential\n",
    "from keras.layers import Dense, Dropout, Flatten\n",
    "from keras.layers import Conv2D, MaxPooling2D\n",
    "from keras import backend as K\n",
    "input_shape = (28, 28, 1)\n",
    "num_classes = 10 \n",
    "model = Sequential()\n",
    "model.add(Conv2D(32, kernel_size=(3, 3),activation='relu',input_shape=input_shape))\n",
    "model.add(Conv2D(64, (3, 3), activation='relu'))\n",
    "model.add(MaxPooling2D(pool_size=(2, 2)))\n",
    "model.add(Dropout(0.25))\n",
    "model.add(Flatten())\n",
    "model.add(Dense(256, activation='relu'))\n",
    "model.add(Dropout(0.5))\n",
    "model.add(Dense(num_classes, activation='softmax'))\n",
    "\n",
    "model.compile(loss='categorical_crossentropy', optimizer='Adam', metrics=['accuracy'])\n",
    "\n",
    "history = model.fit(X_train, y_train, epochs=25, validation_split=0.2)"
   ]
  },
  {
   "cell_type": "code",
   "execution_count": 23,
   "id": "10ef281b",
   "metadata": {},
   "outputs": [
    {
     "name": "stdout",
     "output_type": "stream",
     "text": [
      "INFO:tensorflow:Assets written to: digitrecog2.h\\assets\n"
     ]
    },
    {
     "name": "stderr",
     "output_type": "stream",
     "text": [
      "INFO:tensorflow:Assets written to: digitrecog2.h\\assets\n"
     ]
    }
   ],
   "source": [
    "model.save('digitrecog2.h')"
   ]
  },
  {
   "cell_type": "code",
   "execution_count": 24,
   "id": "c9a2e58f",
   "metadata": {},
   "outputs": [],
   "source": [
    "scores=model.evaluate(X_test,y_test,verbose=0)"
   ]
  },
  {
   "cell_type": "code",
   "execution_count": 25,
   "id": "c1a67576",
   "metadata": {},
   "outputs": [
    {
     "data": {
      "text/plain": [
       "[0.05036384239792824, 0.9904000163078308]"
      ]
     },
     "execution_count": 25,
     "metadata": {},
     "output_type": "execute_result"
    }
   ],
   "source": [
    "scores"
   ]
  },
  {
   "cell_type": "code",
   "execution_count": 26,
   "id": "111c1d37",
   "metadata": {},
   "outputs": [
    {
     "name": "stdout",
     "output_type": "stream",
     "text": [
      "313/313 [==============================] - 8s 23ms/step\n"
     ]
    }
   ],
   "source": [
    "y_prob = model.predict(X_test)"
   ]
  },
  {
   "cell_type": "code",
   "execution_count": 27,
   "id": "5d430343",
   "metadata": {},
   "outputs": [
    {
     "data": {
      "text/plain": [
       "array([7, 2, 1, ..., 4, 5, 6], dtype=int64)"
      ]
     },
     "execution_count": 27,
     "metadata": {},
     "output_type": "execute_result"
    }
   ],
   "source": [
    "y_pred = y_prob.argmax(axis=1)\n",
    "y_pred"
   ]
  },
  {
   "cell_type": "code",
   "execution_count": 31,
   "id": "a352e4ec",
   "metadata": {},
   "outputs": [
    {
     "data": {
      "text/plain": [
       "<matplotlib.image.AxesImage at 0x175850c4e90>"
      ]
     },
     "execution_count": 31,
     "metadata": {},
     "output_type": "execute_result"
    },
    {
     "data": {
      "image/png": "[encoded data removed]",
      "text/plain": [
       "<Figure size 640x480 with 1 Axes>"
      ]
     },
     "metadata": {},
     "output_type": "display_data"
    }
   ],
   "source": [
    "plt.imshow(X_test[0],cmap=plt.get_cmap('gray'))"
   ]
  },
  {
   "cell_type": "code",
   "execution_count": 32,
   "id": "e4c893d2",
   "metadata": {},
   "outputs": [
    {
     "name": "stdout",
     "output_type": "stream",
     "text": [
      "1/1 [==============================] - 0s 78ms/step\n"
     ]
    },
    {
     "data": {
      "text/plain": [
       "array([7], dtype=int64)"
      ]
     },
     "execution_count": 32,
     "metadata": {},
     "output_type": "execute_result"
    }
   ],
   "source": [
    "model.predict(X_test[0].reshape(1,28,28,1)).argmax(axis=1)"
   ]
  },
  {
   "cell_type": "code",
   "execution_count": 30,
   "id": "b0026197",
   "metadata": {},
   "outputs": [
    {
     "name": "stdout",
     "output_type": "stream",
     "text": [
      "313/313 [==============================] - 7s 22ms/step - loss: 0.0504 - accuracy: 0.9904\n"
     ]
    },
    {
     "data": {
      "text/plain": [
       "[0.05036384239792824, 0.9904000163078308]"
      ]
     },
     "execution_count": 30,
     "metadata": {},
     "output_type": "execute_result"
    }
   ],
   "source": [
    "model.evaluate(X_test,y_test)"
   ]
  },
  {
   "cell_type": "code",
   "execution_count": null,
   "id": "4462b7d0",
   "metadata": {},
   "outputs": [],
   "source": []
  },
  {
   "cell_type": "code",
   "execution_count": null,
   "id": "c1015a8c",
   "metadata": {},
   "outputs": [],
   "source": []
  },
  {
   "cell_type": "code",
   "execution_count": null,
   "id": "419f35e2",
   "metadata": {},
   "outputs": [],
   "source": []
  },
  {
   "cell_type": "code",
   "execution_count": null,
   "id": "f45b33e7",
   "metadata": {},
   "outputs": [],
   "source": []
  }
 ],
 "metadata": {
  "kernelspec": {
   "display_name": "Python 3 (ipykernel)",
   "language": "python",
   "name": "python3"
  },
  "language_info": {
   "codemirror_mode": {
    "name": "ipython",
    "version": 3
   },
   "file_extension": ".py",
   "mimetype": "text/x-python",
   "name": "python",
   "nbconvert_exporter": "python",
   "pygments_lexer": "ipython3",
   "version": "3.11.1"
  }
 },
 "nbformat": 4,
 "nbformat_minor": 5
}
